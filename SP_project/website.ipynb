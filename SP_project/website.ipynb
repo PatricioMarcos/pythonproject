{
 "cells": [
  {
   "cell_type": "code",
   "execution_count": 1,
   "metadata": {},
   "outputs": [
    {
     "name": "stdout",
     "output_type": "stream",
     "text": [
      "c:\\Users\\Patrick Anderson\\OneDrive\\Documentos\\SP_project\n"
     ]
    }
   ],
   "source": [
    "from dash import Dash, dcc, html\n",
    "import plotly.express as px\n",
    "import pandas as pd\n",
    "import json\n",
    "import os\n",
    "import zipfile\n",
    "from kaggle.api.kaggle_api_extended import KaggleApi\n",
    "\n",
    "# Switch Matplotlib to the 'Agg' backend\n",
    "import matplotlib\n",
    "matplotlib.use('Agg')\n",
    "\n",
    "print(os.getcwd())\n",
    "\n",
    "# Initialize the Dash app\n",
    "app = Dash(__name__)\n"
   ]
  },
  {
   "cell_type": "code",
   "execution_count": 4,
   "metadata": {},
   "outputs": [],
   "source": [
    "# Colors for the layout\n",
    "colors = {\n",
    "    'background': '#000000',  # Black color\n",
    "    'text': '#7FDBFF'\n",
    "}\n",
    "\n",
    "# Global style for div elements\n",
    "GLOBAL_STYLE = {\n",
    "    'margin': '0px',\n",
    "    'padding': '0px'\n",
    "}\n",
    "\n",
    "# API credentials for Kaggle\n",
    "with open('kaggle.json') as f:\n",
    "    data = json.load(f)\n",
    "os.environ['davidwais'] = data['username']\n",
    "os.environ['640dce0b8b18e242f79ecb170bbb2d73'] = data['key']\n",
    "\n",
    "# Initialize Kaggle API and download the dataset\n",
    "api = KaggleApi()\n",
    "api.authenticate()\n",
    "api.dataset_download_file('muthuj7/weather-dataset', 'weatherHistory.csv')\n",
    "\n",
    "# Unzip the downloaded file\n",
    "zip_file_path = 'weatherHistory.csv.zip'\n",
    "extract_dir = './'\n",
    "with zipfile.ZipFile(zip_file_path, 'r') as zip_ref:\n",
    "    zip_ref.extractall(extract_dir)\n",
    "\n",
    "# Read the dataset into a pandas dataframe\n",
    "df = pd.read_csv('weatherHistory.csv', sep=',')"
   ]
  },
  {
   "cell_type": "code",
   "execution_count": 3,
   "metadata": {},
   "outputs": [
    {
     "name": "stderr",
     "output_type": "stream",
     "text": [
      "c:\\Users\\Patrick Anderson\\anaconda3\\envs\\spenv\\lib\\site-packages\\plotly\\express\\_core.py:2065: FutureWarning:\n",
      "\n",
      "When grouping with a length-1 list-like, you will need to pass a length-1 tuple to get_group in a future version of pandas. Pass `(name,)` instead of `name` to silence this warning.\n",
      "\n",
      "c:\\Users\\Patrick Anderson\\anaconda3\\envs\\spenv\\lib\\site-packages\\plotly\\express\\_core.py:2065: FutureWarning:\n",
      "\n",
      "When grouping with a length-1 list-like, you will need to pass a length-1 tuple to get_group in a future version of pandas. Pass `(name,)` instead of `name` to silence this warning.\n",
      "\n",
      "c:\\Users\\Patrick Anderson\\anaconda3\\envs\\spenv\\lib\\site-packages\\plotly\\express\\_core.py:2065: FutureWarning:\n",
      "\n",
      "When grouping with a length-1 list-like, you will need to pass a length-1 tuple to get_group in a future version of pandas. Pass `(name,)` instead of `name` to silence this warning.\n",
      "\n",
      "c:\\Users\\Patrick Anderson\\anaconda3\\envs\\spenv\\lib\\site-packages\\plotly\\express\\_core.py:2065: FutureWarning:\n",
      "\n",
      "When grouping with a length-1 list-like, you will need to pass a length-1 tuple to get_group in a future version of pandas. Pass `(name,)` instead of `name` to silence this warning.\n",
      "\n"
     ]
    },
    {
     "data": {
      "text/html": [
       "\n",
       "        <iframe\n",
       "            width=\"100%\"\n",
       "            height=\"650\"\n",
       "            src=\"http://127.0.0.1:8051/\"\n",
       "            frameborder=\"0\"\n",
       "            allowfullscreen\n",
       "            \n",
       "        ></iframe>\n",
       "        "
      ],
      "text/plain": [
       "<IPython.lib.display.IFrame at 0x148b6fb6800>"
      ]
     },
     "metadata": {},
     "output_type": "display_data"
    }
   ],
   "source": [
    "# Select only the first 30 rows of the dataset\n",
    "df_subset = df.sample(30)\n",
    "\n",
    "# Create a bar chart with the subset data\n",
    "fig_bar_subset = px.bar(df_subset, x=\"Formatted Date\", y=\"Temperature (C)\", color=\"Summary\", barmode=\"group\")\n",
    "fig_bar_subset.update_layout(\n",
    "    plot_bgcolor=colors['background'],\n",
    "    paper_bgcolor=colors['background'],\n",
    "    font_color=colors['text']\n",
    ")\n",
    "\n",
    "# Additional plots with the subset data\n",
    "fig_scatter_subset = px.scatter(df_subset, x=\"Humidity\", y=\"Temperature (C)\", color=\"Summary\",\n",
    "                         hover_data=[\"Formatted Date\", \"Wind Speed (km/h)\"])\n",
    "fig_scatter_subset.update_layout(\n",
    "    plot_bgcolor=colors['background'],\n",
    "    paper_bgcolor=colors['background'],\n",
    "    font_color=colors['text']\n",
    ")\n",
    "\n",
    "fig_line_subset = px.line(df_subset, x=\"Formatted Date\", y=\"Wind Speed (km/h)\", color=\"Summary\")\n",
    "fig_line_subset.update_layout(\n",
    "    plot_bgcolor=colors['background'],\n",
    "    paper_bgcolor=colors['background'],\n",
    "    font_color=colors['text']\n",
    ")\n",
    "\n",
    "fig_hist_subset = px.histogram(df_subset, x=\"Visibility (km)\", color=\"Summary\", nbins=20)\n",
    "fig_hist_subset.update_layout(\n",
    "    plot_bgcolor=colors['background'],\n",
    "    paper_bgcolor=colors['background'],\n",
    "    font_color=colors['text']\n",
    ")\n",
    "\n",
    "precip_counts_all = df_subset[\"Precip Type\"].value_counts()\n",
    "\n",
    "# Create the pie chart with all precipitation types\n",
    "fig_pie_all = px.pie(precip_counts_all, values=precip_counts_all.values, names=precip_counts_all.index)\n",
    "fig_pie_all.update_layout(\n",
    "    plot_bgcolor=colors['background'],\n",
    "    paper_bgcolor=colors['background'],\n",
    "    font_color=colors['text']\n",
    ")\n",
    "# Define the layout of the Dash app with the subset data\n",
    "app.layout = html.Div(style={'backgroundColor': colors['background']}, children=[\n",
    "    html.H1(\n",
    "        children='Weather Data Visualization',\n",
    "        style={\n",
    "            'textAlign': 'center',\n",
    "            'color': colors['text']\n",
    "        }\n",
    "    ),\n",
    "    html.Div(children='Dash: A web application framework for your data.', style={\n",
    "        'textAlign': 'center',\n",
    "        'color': colors['text']\n",
    "    }),\n",
    "    # Apply the global style to each div\n",
    "    html.Div(dcc.Graph(\n",
    "        id='bar-chart',\n",
    "        figure=fig_bar_subset\n",
    "    ), style=GLOBAL_STYLE),\n",
    "    html.Div(dcc.Graph(\n",
    "        id='scatter-plot',\n",
    "        figure=fig_scatter_subset\n",
    "    ), style=GLOBAL_STYLE),\n",
    "    html.Div(dcc.Graph(\n",
    "        id='line-plot',\n",
    "        figure=fig_line_subset\n",
    "    ), style=GLOBAL_STYLE),\n",
    "    html.Div(dcc.Graph(\n",
    "        id='histogram',\n",
    "        figure=fig_hist_subset\n",
    "    ), style=GLOBAL_STYLE),\n",
    "    html.Div(dcc.Graph(\n",
    "        id='pie-chart',\n",
    "        figure=fig_pie_all\n",
    "    ), style=GLOBAL_STYLE)\n",
    "])\n",
    "\n",
    "# Run the Dash app http://127.0.0.1:8051\n",
    "app.run(debug=True, port=8051)\n"
   ]
  }
 ],
 "metadata": {
  "kernelspec": {
   "display_name": "spenv",
   "language": "python",
   "name": "python3"
  },
  "language_info": {
   "codemirror_mode": {
    "name": "ipython",
    "version": 3
   },
   "file_extension": ".py",
   "mimetype": "text/x-python",
   "name": "python",
   "nbconvert_exporter": "python",
   "pygments_lexer": "ipython3",
   "version": "3.10.13"
  }
 },
 "nbformat": 4,
 "nbformat_minor": 2
}
