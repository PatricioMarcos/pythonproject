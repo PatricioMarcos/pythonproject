{
 "cells": [
  {
   "cell_type": "code",
   "execution_count": 1,
   "metadata": {},
   "outputs": [
    {
     "name": "stdout",
     "output_type": "stream",
     "text": [
      "c:\\Users\\Patrick Anderson\\OneDrive\\Documentos\\SP_project\n"
     ]
    }
   ],
   "source": [
    "# Libraries\n",
    "import os\n",
    "import json\n",
    "import pandas as pd\n",
    "from kaggle.api.kaggle_api_extended import KaggleApi\n",
    "import zipfile\n",
    "import sqlite3\n",
    "\n",
    "# API credentials for Kaggle\n",
    "with open('kaggle.json') as f:\n",
    "    data = json.load(f)\n",
    "\n",
    "os.environ['davidwais'] = data['username']\n",
    "os.environ['640dce0b8b18e242f79ecb170bbb2d73'] = data['key']\n",
    "\n",
    "# Ignore warnings\n",
    "import warnings\n",
    "warnings.filterwarnings('ignore')\n",
    "\n",
    "# Show current working directory\n",
    "print(os.getcwd())"
   ]
  },
  {
   "cell_type": "code",
   "execution_count": 2,
   "metadata": {},
   "outputs": [
    {
     "name": "stdout",
     "output_type": "stream",
     "text": [
      "ZIP file extracted!\n"
     ]
    }
   ],
   "source": [
    "# Initialize API\n",
    "api = KaggleApi()\n",
    "api.authenticate()\n",
    "\n",
    "# Download file\n",
    "api.dataset_download_file('muthuj7/weather-dataset','weatherHistory.csv')\n",
    "# Specify the path to the zip file\n",
    "zip_file_path = 'weatherHistory.csv.zip'\n",
    "\n",
    "# Specify the directory where you want to extract the files\n",
    "extract_dir = './'\n",
    "\n",
    "# Extract the zip file\n",
    "with zipfile.ZipFile(zip_file_path, 'r') as zip_ref:\n",
    "    zip_ref.extractall(extract_dir)\n",
    "print(\"ZIP file extracted!\")   "
   ]
  },
  {
   "cell_type": "code",
   "execution_count": 3,
   "metadata": {},
   "outputs": [
    {
     "name": "stdout",
     "output_type": "stream",
     "text": [
      "Data collected!\n"
     ]
    }
   ],
   "source": [
    "# Read data to pandas data frame\n",
    "df = pd.read_csv('weatherHistory.csv', sep=',')\n",
    "print(\"Data collected!\")"
   ]
  },
  {
   "cell_type": "code",
   "execution_count": 4,
   "metadata": {},
   "outputs": [
    {
     "name": "stdout",
     "output_type": "stream",
     "text": [
      "Connection establised!\n",
      "Connection closed!\n"
     ]
    }
   ],
   "source": [
    "# Connect to SQLite database (or create it if it doesn't exist)\n",
    "conn = sqlite3.connect('weatherhistory.db')\n",
    "cursor = conn.cursor()\n",
    "print(\"Connection establised!\")\n",
    "\n",
    "# Create a table in SQLite database\n",
    "cursor.execute('''\n",
    "CREATE TABLE IF NOT EXISTS weather_history (\n",
    "    FormattedDate TEXT,\n",
    "    Summary TEXT,\n",
    "    PrecipType TEXT,\n",
    "    TemperatureC REAL,\n",
    "    ApparentTemperatureC REAL,\n",
    "    Humidity REAL,\n",
    "    WindSpeedKmh REAL,\n",
    "    WindBearingDegrees REAL,\n",
    "    VisibilityKm REAL,\n",
    "    LoudCover REAL,\n",
    "    PressureMillibars REAL,\n",
    "    DailySummary TEXT\n",
    ")\n",
    "''')\n",
    "\n",
    "# Insert the first 30 rows of the dataframe into the table\n",
    "df.head(30).to_sql('weather_history', conn, if_exists='replace', index=False)\n",
    "\n",
    "\n",
    "\n",
    "# Commit changes and close the connection\n",
    "conn.commit()\n",
    "\n",
    "conn.close()\n",
    "print(\"Connection closed!\")"
   ]
  },
  {
   "cell_type": "code",
   "execution_count": 5,
   "metadata": {},
   "outputs": [
    {
     "name": "stdout",
     "output_type": "stream",
     "text": [
      "Connection established!\n",
      "['Formatted Date', 'Summary', 'Precip Type', 'Temperature (C)', 'Apparent Temperature (C)', 'Humidity', 'Wind Speed (km/h)', 'Wind Bearing (degrees)', 'Visibility (km)', 'Loud Cover', 'Pressure (millibars)', 'Daily Summary']\n",
      "('2006-04-01 00:00:00.000 +0200', 'Partly Cloudy', 'rain', 9.47222222222222, 7.388888888888887, 0.89, 14.1197, 251.0, 15.826300000000002, 0.0, 1015.13, 'Partly cloudy throughout the day.')\n",
      "('2006-04-01 01:00:00.000 +0200', 'Partly Cloudy', 'rain', 9.355555555555558, 7.227777777777776, 0.86, 14.2646, 259.0, 15.826300000000002, 0.0, 1015.63, 'Partly cloudy throughout the day.')\n",
      "('2006-04-01 02:00:00.000 +0200', 'Mostly Cloudy', 'rain', 9.377777777777778, 9.377777777777778, 0.89, 3.9284, 204.0, 14.9569, 0.0, 1015.94, 'Partly cloudy throughout the day.')\n",
      "('2006-04-01 03:00:00.000 +0200', 'Partly Cloudy', 'rain', 8.28888888888889, 5.944444444444446, 0.83, 14.1036, 269.0, 15.826300000000002, 0.0, 1016.41, 'Partly cloudy throughout the day.')\n",
      "('2006-04-01 04:00:00.000 +0200', 'Mostly Cloudy', 'rain', 8.755555555555553, 6.977777777777779, 0.83, 11.0446, 259.0, 15.826300000000002, 0.0, 1016.51, 'Partly cloudy throughout the day.')\n",
      "('2006-04-01 05:00:00.000 +0200', 'Partly Cloudy', 'rain', 9.22222222222222, 7.11111111111111, 0.85, 13.9587, 258.0, 14.9569, 0.0, 1016.66, 'Partly cloudy throughout the day.')\n",
      "('2006-04-01 06:00:00.000 +0200', 'Partly Cloudy', 'rain', 7.733333333333334, 5.522222222222221, 0.95, 12.3648, 259.0, 9.982, 0.0, 1016.72, 'Partly cloudy throughout the day.')\n",
      "('2006-04-01 07:00:00.000 +0200', 'Partly Cloudy', 'rain', 8.77222222222222, 6.527777777777778, 0.89, 14.1519, 260.0, 9.982, 0.0, 1016.84, 'Partly cloudy throughout the day.')\n",
      "('2006-04-01 08:00:00.000 +0200', 'Partly Cloudy', 'rain', 10.82222222222222, 10.82222222222222, 0.82, 11.3183, 259.0, 9.982, 0.0, 1017.37, 'Partly cloudy throughout the day.')\n",
      "('2006-04-01 09:00:00.000 +0200', 'Partly Cloudy', 'rain', 13.77222222222222, 13.77222222222222, 0.72, 12.525800000000002, 279.0, 9.982, 0.0, 1017.22, 'Partly cloudy throughout the day.')\n",
      "('2006-04-01 10:00:00.000 +0200', 'Partly Cloudy', 'rain', 16.016666666666666, 16.016666666666666, 0.67, 17.5651, 290.0, 11.2056, 0.0, 1017.42, 'Partly cloudy throughout the day.')\n",
      "('2006-04-01 11:00:00.000 +0200', 'Partly Cloudy', 'rain', 17.144444444444446, 17.144444444444446, 0.54, 19.7869, 316.0, 11.4471, 0.0, 1017.74, 'Partly cloudy throughout the day.')\n",
      "('2006-04-01 12:00:00.000 +0200', 'Partly Cloudy', 'rain', 17.800000000000004, 17.800000000000004, 0.55, 21.9443, 281.0, 11.27, 0.0, 1017.59, 'Partly cloudy throughout the day.')\n",
      "('2006-04-01 13:00:00.000 +0200', 'Partly Cloudy', 'rain', 17.333333333333332, 17.333333333333332, 0.51, 20.6885, 289.0, 11.27, 0.0, 1017.48, 'Partly cloudy throughout the day.')\n",
      "('2006-04-01 14:00:00.000 +0200', 'Partly Cloudy', 'rain', 18.87777777777778, 18.87777777777778, 0.47, 15.375500000000002, 262.0, 11.4471, 0.0, 1017.17, 'Partly cloudy throughout the day.')\n",
      "('2006-04-01 15:00:00.000 +0200', 'Partly Cloudy', 'rain', 18.911111111111115, 18.911111111111115, 0.46, 10.4006, 288.0, 11.27, 0.0, 1016.47, 'Partly cloudy throughout the day.')\n",
      "('2006-04-01 16:00:00.000 +0200', 'Partly Cloudy', 'rain', 15.38888888888889, 15.38888888888889, 0.6, 14.4095, 251.0, 11.27, 0.0, 1016.15, 'Partly cloudy throughout the day.')\n",
      "('2006-04-01 17:00:00.000 +0200', 'Mostly Cloudy', 'rain', 15.550000000000002, 15.550000000000002, 0.63, 11.1573, 230.0, 11.4471, 0.0, 1016.17, 'Partly cloudy throughout the day.')\n",
      "('2006-04-01 18:00:00.000 +0200', 'Mostly Cloudy', 'rain', 14.255555555555553, 14.255555555555553, 0.69, 8.5169, 163.0, 11.2056, 0.0, 1015.82, 'Partly cloudy throughout the day.')\n",
      "('2006-04-01 19:00:00.000 +0200', 'Mostly Cloudy', 'rain', 13.144444444444442, 13.144444444444442, 0.7, 7.631400000000001, 139.0, 11.2056, 0.0, 1015.83, 'Partly cloudy throughout the day.')\n",
      "('2006-04-01 20:00:00.000 +0200', 'Mostly Cloudy', 'rain', 11.55, 11.55, 0.77, 7.3899, 147.0, 11.0285, 0.0, 1015.85, 'Partly cloudy throughout the day.')\n",
      "('2006-04-01 21:00:00.000 +0200', 'Mostly Cloudy', 'rain', 11.183333333333334, 11.183333333333334, 0.76, 4.9266000000000005, 160.0, 9.982, 0.0, 1015.77, 'Partly cloudy throughout the day.')\n",
      "('2006-04-01 22:00:00.000 +0200', 'Partly Cloudy', 'rain', 10.116666666666667, 10.116666666666667, 0.79, 6.6493, 163.0, 15.826300000000002, 0.0, 1015.4, 'Partly cloudy throughout the day.')\n",
      "('2006-04-01 23:00:00.000 +0200', 'Mostly Cloudy', 'rain', 10.2, 10.2, 0.77, 3.9284, 152.0, 14.9569, 0.0, 1015.51, 'Partly cloudy throughout the day.')\n",
      "('2006-04-10 00:00:00.000 +0200', 'Partly Cloudy', 'rain', 10.42222222222222, 10.42222222222222, 0.62, 16.985500000000002, 150.0, 15.826300000000002, 0.0, 1014.4, 'Mostly cloudy throughout the day.')\n",
      "('2006-04-10 01:00:00.000 +0200', 'Partly Cloudy', 'rain', 9.911111111111111, 7.566666666666666, 0.66, 17.2109, 149.0, 15.826300000000002, 0.0, 1014.2, 'Mostly cloudy throughout the day.')\n",
      "('2006-04-10 02:00:00.000 +0200', 'Mostly Cloudy', 'rain', 11.183333333333334, 11.183333333333334, 0.8, 10.8192, 163.0, 14.9569, 0.0, 1008.71, 'Mostly cloudy throughout the day.')\n",
      "('2006-04-10 03:00:00.000 +0200', 'Partly Cloudy', 'rain', 7.155555555555556, 5.044444444444443, 0.79, 11.0768, 180.0, 15.826300000000002, 0.0, 1014.47, 'Mostly cloudy throughout the day.')\n",
      "('2006-04-10 04:00:00.000 +0200', 'Partly Cloudy', 'rain', 6.111111111111111, 4.816666666666667, 0.82, 6.6493, 161.0, 15.826300000000002, 0.0, 1014.45, 'Mostly cloudy throughout the day.')\n",
      "('2006-04-10 05:00:00.000 +0200', 'Partly Cloudy', 'rain', 6.788888888888888, 4.272222222222221, 0.83, 13.0088, 135.0, 14.9569, 0.0, 1014.49, 'Mostly cloudy throughout the day.')\n",
      "Connection closed!\n"
     ]
    }
   ],
   "source": [
    "# Connect to the SQLite database\n",
    "conn = sqlite3.connect('weatherhistory.db')\n",
    "cursor = conn.cursor()\n",
    "print(\"Connection established!\")\n",
    "\n",
    "# Execute the query\n",
    "cursor.execute(\"SELECT * FROM weather_history\")\n",
    "\n",
    "# Fetch all rows\n",
    "rows = cursor.fetchall()\n",
    "\n",
    "# Get the column names\n",
    "columns = [description[0] for description in cursor.description]\n",
    "\n",
    "# Display the header\n",
    "print(columns)\n",
    "\n",
    "# Display the rows\n",
    "for row in rows:\n",
    "    print(row)\n",
    "\n",
    "# Close the connection\n",
    "conn.close()\n",
    "print(\"Connection closed!\")"
   ]
  }
 ],
 "metadata": {
  "kernelspec": {
   "display_name": "spenv",
   "language": "python",
   "name": "python3"
  },
  "language_info": {
   "codemirror_mode": {
    "name": "ipython",
    "version": 3
   },
   "file_extension": ".py",
   "mimetype": "text/x-python",
   "name": "python",
   "nbconvert_exporter": "python",
   "pygments_lexer": "ipython3",
   "version": "3.10.13"
  }
 },
 "nbformat": 4,
 "nbformat_minor": 2
}
